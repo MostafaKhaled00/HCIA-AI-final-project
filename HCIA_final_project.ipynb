{
  "cells": [
    {
      "cell_type": "markdown",
      "id": "f730ab2b",
      "metadata": {},
      "source": [
        "# HCIA AI project  - Simple Project\n",
        "## Team: <br>Mostafa Khaled <br> Mahmoud Hozayn"
      ]
    },
    {
      "cell_type": "markdown",
      "id": "1a12c4a3",
      "metadata": {},
      "source": [
        "# Probelm definition:\n",
        "Our problem consists of classifying flowers to their species based on the features of it. There's 3 types of species we are dealing with in our data set (Iris-setosa, Iris-versicolor, Iris-virginica). Two types of classifying algorithms will be used, KNN and SVM. In SVM, the model takes the data points and outputs a hyperplane between the classes, the hyperplane should maximize the separation of data points to their potential classes. KNN, on the other hand, calculates the distance between the test samples and the labeled train data, it counts the number of instances voted for every class, and based on that voting it classifies the test sample for the most voted (common) class amongst. \n"
      ]
    },
    {
      "cell_type": "markdown",
      "id": "e106eea4",
      "metadata": {},
      "source": [
        "\n",
        "# Aim:\n",
        "The goal here is to succefully classify (unknown) test samples to each's class (species). KNN is a great algorithm to use in this particular case as the data set is relatively small while the number of classes are only 3.\n"
      ]
    },
    {
      "cell_type": "markdown",
      "id": "307d1dae",
      "metadata": {},
      "source": [
        "# Objective of the assignment:\n",
        "I believe the objective of this assignment is to have hands-on experience with building a classification model from scratch in which KNN was a great candidate, alongside building deep understanding of how KNN works precisely, from building the distance function to getting the majority votes to finally putting everything together in one fucntion and looping over the test samples."
      ]
    },
    {
      "cell_type": "markdown",
      "id": "a7d13a55",
      "metadata": {},
      "source": [
        "\n",
        "# Expected outcomes:\n",
        "The general expected outcome is to accurately predict each sample from the dataset that isn't class labeled. In our case, a high success rate is expected as the number of features is small, while the dataset is clean with no noise apparent.<br>\n",
        "After fitting and training the model with our train data to both KNN and SVM, and testing their accuracy score along with other performance metrix, it will be clear which model is more suitable in the prediction flower's species relative to our dataset's distribution and number of features."
      ]
    },
    {
      "cell_type": "markdown",
      "id": "bbc6d82c",
      "metadata": {},
      "source": [
        "# Data\n",
        "The dataset we are working on is the Iris dataset from sci-kit learn. It shows records of flowers' petal and sepal dimentions with mentioning its species. "
      ]
    },
    {
      "cell_type": "code",
      "execution_count": 1,
      "id": "c3766dba",
      "metadata": {},
      "outputs": [],
      "source": [
        "import pandas as pd\n",
        "import numpy as np\n",
        "# from sklearn.model_selection import *\n",
        "import matplotlib as plt\n",
        "import seaborn as sns\n",
        "from sklearn.preprocessing import MinMaxScaler\n",
        "from sklearn.preprocessing import StandardScaler\n",
        "from sklearn.model_selection import train_test_split\n",
        "from sklearn.svm import SVC\n",
        "from sklearn.metrics import accuracy_score, precision_score, recall_score, f1_score"
      ]
    },
    {
      "cell_type": "code",
      "execution_count": 2,
      "id": "72628962-90be-4377-9128-5678b51f2948",
      "metadata": {
        "id": "72628962-90be-4377-9128-5678b51f2948"
      },
      "outputs": [],
      "source": [
        "df = pd.read_csv('Iris.csv')"
      ]
    },
    {
      "cell_type": "code",
      "execution_count": 3,
      "id": "73f39c78",
      "metadata": {},
      "outputs": [
        {
          "data": {
            "text/plain": [
              "(150, 6)"
            ]
          },
          "execution_count": 3,
          "metadata": {},
          "output_type": "execute_result"
        }
      ],
      "source": [
        "df.shape"
      ]
    },
    {
      "cell_type": "code",
      "execution_count": 4,
      "id": "93952afa-1e6e-4d04-8c8e-bfc25b1f6af4",
      "metadata": {
        "colab": {
          "base_uri": "https://localhost:8080/",
          "height": 676
        },
        "id": "93952afa-1e6e-4d04-8c8e-bfc25b1f6af4",
        "outputId": "4c11b98d-07f2-4d9d-9534-a3a0bc22efc7"
      },
      "outputs": [
        {
          "data": {
            "text/html": [
              "<div>\n",
              "<style scoped>\n",
              "    .dataframe tbody tr th:only-of-type {\n",
              "        vertical-align: middle;\n",
              "    }\n",
              "\n",
              "    .dataframe tbody tr th {\n",
              "        vertical-align: top;\n",
              "    }\n",
              "\n",
              "    .dataframe thead th {\n",
              "        text-align: right;\n",
              "    }\n",
              "</style>\n",
              "<table border=\"1\" class=\"dataframe\">\n",
              "  <thead>\n",
              "    <tr style=\"text-align: right;\">\n",
              "      <th></th>\n",
              "      <th>Id</th>\n",
              "      <th>SepalLengthCm</th>\n",
              "      <th>SepalWidthCm</th>\n",
              "      <th>PetalLengthCm</th>\n",
              "      <th>PetalWidthCm</th>\n",
              "      <th>Species</th>\n",
              "    </tr>\n",
              "  </thead>\n",
              "  <tbody>\n",
              "    <tr>\n",
              "      <th>0</th>\n",
              "      <td>1</td>\n",
              "      <td>5.1</td>\n",
              "      <td>3.5</td>\n",
              "      <td>1.4</td>\n",
              "      <td>0.2</td>\n",
              "      <td>Iris-setosa</td>\n",
              "    </tr>\n",
              "    <tr>\n",
              "      <th>1</th>\n",
              "      <td>2</td>\n",
              "      <td>4.9</td>\n",
              "      <td>3.0</td>\n",
              "      <td>1.4</td>\n",
              "      <td>0.2</td>\n",
              "      <td>Iris-setosa</td>\n",
              "    </tr>\n",
              "    <tr>\n",
              "      <th>2</th>\n",
              "      <td>3</td>\n",
              "      <td>4.7</td>\n",
              "      <td>3.2</td>\n",
              "      <td>1.3</td>\n",
              "      <td>0.2</td>\n",
              "      <td>Iris-setosa</td>\n",
              "    </tr>\n",
              "    <tr>\n",
              "      <th>3</th>\n",
              "      <td>4</td>\n",
              "      <td>4.6</td>\n",
              "      <td>3.1</td>\n",
              "      <td>1.5</td>\n",
              "      <td>0.2</td>\n",
              "      <td>Iris-setosa</td>\n",
              "    </tr>\n",
              "    <tr>\n",
              "      <th>4</th>\n",
              "      <td>5</td>\n",
              "      <td>5.0</td>\n",
              "      <td>3.6</td>\n",
              "      <td>1.4</td>\n",
              "      <td>0.2</td>\n",
              "      <td>Iris-setosa</td>\n",
              "    </tr>\n",
              "    <tr>\n",
              "      <th>5</th>\n",
              "      <td>6</td>\n",
              "      <td>5.4</td>\n",
              "      <td>3.9</td>\n",
              "      <td>1.7</td>\n",
              "      <td>0.4</td>\n",
              "      <td>Iris-setosa</td>\n",
              "    </tr>\n",
              "    <tr>\n",
              "      <th>6</th>\n",
              "      <td>7</td>\n",
              "      <td>4.6</td>\n",
              "      <td>3.4</td>\n",
              "      <td>1.4</td>\n",
              "      <td>0.3</td>\n",
              "      <td>Iris-setosa</td>\n",
              "    </tr>\n",
              "    <tr>\n",
              "      <th>7</th>\n",
              "      <td>8</td>\n",
              "      <td>5.0</td>\n",
              "      <td>3.4</td>\n",
              "      <td>1.5</td>\n",
              "      <td>0.2</td>\n",
              "      <td>Iris-setosa</td>\n",
              "    </tr>\n",
              "    <tr>\n",
              "      <th>8</th>\n",
              "      <td>9</td>\n",
              "      <td>4.4</td>\n",
              "      <td>2.9</td>\n",
              "      <td>1.4</td>\n",
              "      <td>0.2</td>\n",
              "      <td>Iris-setosa</td>\n",
              "    </tr>\n",
              "    <tr>\n",
              "      <th>9</th>\n",
              "      <td>10</td>\n",
              "      <td>4.9</td>\n",
              "      <td>3.1</td>\n",
              "      <td>1.5</td>\n",
              "      <td>0.1</td>\n",
              "      <td>Iris-setosa</td>\n",
              "    </tr>\n",
              "  </tbody>\n",
              "</table>\n",
              "</div>"
            ],
            "text/plain": [
              "   Id  SepalLengthCm  SepalWidthCm  PetalLengthCm  PetalWidthCm      Species\n",
              "0   1            5.1           3.5            1.4           0.2  Iris-setosa\n",
              "1   2            4.9           3.0            1.4           0.2  Iris-setosa\n",
              "2   3            4.7           3.2            1.3           0.2  Iris-setosa\n",
              "3   4            4.6           3.1            1.5           0.2  Iris-setosa\n",
              "4   5            5.0           3.6            1.4           0.2  Iris-setosa\n",
              "5   6            5.4           3.9            1.7           0.4  Iris-setosa\n",
              "6   7            4.6           3.4            1.4           0.3  Iris-setosa\n",
              "7   8            5.0           3.4            1.5           0.2  Iris-setosa\n",
              "8   9            4.4           2.9            1.4           0.2  Iris-setosa\n",
              "9  10            4.9           3.1            1.5           0.1  Iris-setosa"
            ]
          },
          "execution_count": 4,
          "metadata": {},
          "output_type": "execute_result"
        }
      ],
      "source": [
        "df.head(10)"
      ]
    },
    {
      "cell_type": "code",
      "execution_count": 5,
      "id": "2978d860-a128-4b36-8666-af68f8ac5c91",
      "metadata": {
        "colab": {
          "base_uri": "https://localhost:8080/",
          "height": 300
        },
        "id": "2978d860-a128-4b36-8666-af68f8ac5c91",
        "outputId": "36e4ca68-35ec-466e-f5da-46d1c7a25898"
      },
      "outputs": [
        {
          "data": {
            "text/html": [
              "<div>\n",
              "<style scoped>\n",
              "    .dataframe tbody tr th:only-of-type {\n",
              "        vertical-align: middle;\n",
              "    }\n",
              "\n",
              "    .dataframe tbody tr th {\n",
              "        vertical-align: top;\n",
              "    }\n",
              "\n",
              "    .dataframe thead th {\n",
              "        text-align: right;\n",
              "    }\n",
              "</style>\n",
              "<table border=\"1\" class=\"dataframe\">\n",
              "  <thead>\n",
              "    <tr style=\"text-align: right;\">\n",
              "      <th></th>\n",
              "      <th>Id</th>\n",
              "      <th>SepalLengthCm</th>\n",
              "      <th>SepalWidthCm</th>\n",
              "      <th>PetalLengthCm</th>\n",
              "      <th>PetalWidthCm</th>\n",
              "    </tr>\n",
              "  </thead>\n",
              "  <tbody>\n",
              "    <tr>\n",
              "      <th>count</th>\n",
              "      <td>150.000000</td>\n",
              "      <td>150.000000</td>\n",
              "      <td>150.000000</td>\n",
              "      <td>150.000000</td>\n",
              "      <td>150.000000</td>\n",
              "    </tr>\n",
              "    <tr>\n",
              "      <th>mean</th>\n",
              "      <td>75.500000</td>\n",
              "      <td>5.843333</td>\n",
              "      <td>3.054000</td>\n",
              "      <td>3.758667</td>\n",
              "      <td>1.198667</td>\n",
              "    </tr>\n",
              "    <tr>\n",
              "      <th>std</th>\n",
              "      <td>43.445368</td>\n",
              "      <td>0.828066</td>\n",
              "      <td>0.433594</td>\n",
              "      <td>1.764420</td>\n",
              "      <td>0.763161</td>\n",
              "    </tr>\n",
              "    <tr>\n",
              "      <th>min</th>\n",
              "      <td>1.000000</td>\n",
              "      <td>4.300000</td>\n",
              "      <td>2.000000</td>\n",
              "      <td>1.000000</td>\n",
              "      <td>0.100000</td>\n",
              "    </tr>\n",
              "    <tr>\n",
              "      <th>25%</th>\n",
              "      <td>38.250000</td>\n",
              "      <td>5.100000</td>\n",
              "      <td>2.800000</td>\n",
              "      <td>1.600000</td>\n",
              "      <td>0.300000</td>\n",
              "    </tr>\n",
              "    <tr>\n",
              "      <th>50%</th>\n",
              "      <td>75.500000</td>\n",
              "      <td>5.800000</td>\n",
              "      <td>3.000000</td>\n",
              "      <td>4.350000</td>\n",
              "      <td>1.300000</td>\n",
              "    </tr>\n",
              "    <tr>\n",
              "      <th>75%</th>\n",
              "      <td>112.750000</td>\n",
              "      <td>6.400000</td>\n",
              "      <td>3.300000</td>\n",
              "      <td>5.100000</td>\n",
              "      <td>1.800000</td>\n",
              "    </tr>\n",
              "    <tr>\n",
              "      <th>max</th>\n",
              "      <td>150.000000</td>\n",
              "      <td>7.900000</td>\n",
              "      <td>4.400000</td>\n",
              "      <td>6.900000</td>\n",
              "      <td>2.500000</td>\n",
              "    </tr>\n",
              "  </tbody>\n",
              "</table>\n",
              "</div>"
            ],
            "text/plain": [
              "               Id  SepalLengthCm  SepalWidthCm  PetalLengthCm  PetalWidthCm\n",
              "count  150.000000     150.000000    150.000000     150.000000    150.000000\n",
              "mean    75.500000       5.843333      3.054000       3.758667      1.198667\n",
              "std     43.445368       0.828066      0.433594       1.764420      0.763161\n",
              "min      1.000000       4.300000      2.000000       1.000000      0.100000\n",
              "25%     38.250000       5.100000      2.800000       1.600000      0.300000\n",
              "50%     75.500000       5.800000      3.000000       4.350000      1.300000\n",
              "75%    112.750000       6.400000      3.300000       5.100000      1.800000\n",
              "max    150.000000       7.900000      4.400000       6.900000      2.500000"
            ]
          },
          "execution_count": 5,
          "metadata": {},
          "output_type": "execute_result"
        }
      ],
      "source": [
        "df.describe()"
      ]
    },
    {
      "cell_type": "code",
      "execution_count": 6,
      "id": "d11ca99c-96d0-493e-ba1c-81c8fe930d7c",
      "metadata": {
        "colab": {
          "base_uri": "https://localhost:8080/"
        },
        "id": "d11ca99c-96d0-493e-ba1c-81c8fe930d7c",
        "outputId": "c2825e6e-c543-44c0-b074-e656eca7a887"
      },
      "outputs": [
        {
          "name": "stdout",
          "output_type": "stream",
          "text": [
            "<class 'pandas.core.frame.DataFrame'>\n",
            "RangeIndex: 150 entries, 0 to 149\n",
            "Data columns (total 6 columns):\n",
            " #   Column         Non-Null Count  Dtype  \n",
            "---  ------         --------------  -----  \n",
            " 0   Id             150 non-null    int64  \n",
            " 1   SepalLengthCm  150 non-null    float64\n",
            " 2   SepalWidthCm   150 non-null    float64\n",
            " 3   PetalLengthCm  150 non-null    float64\n",
            " 4   PetalWidthCm   150 non-null    float64\n",
            " 5   Species        150 non-null    object \n",
            "dtypes: float64(4), int64(1), object(1)\n",
            "memory usage: 7.2+ KB\n"
          ]
        }
      ],
      "source": [
        "df.info()"
      ]
    },
    {
      "cell_type": "code",
      "execution_count": 7,
      "id": "c13261b5-4c9c-4b8c-b086-4d2d89a3d661",
      "metadata": {
        "colab": {
          "base_uri": "https://localhost:8080/"
        },
        "id": "c13261b5-4c9c-4b8c-b086-4d2d89a3d661",
        "outputId": "5fca0061-bbba-4914-8a1a-b15967f1b8b6"
      },
      "outputs": [
        {
          "data": {
            "text/plain": [
              "array(['Iris-setosa', 'Iris-versicolor', 'Iris-virginica'], dtype=object)"
            ]
          },
          "execution_count": 7,
          "metadata": {},
          "output_type": "execute_result"
        }
      ],
      "source": [
        "df['Species'].unique()"
      ]
    },
    {
      "cell_type": "code",
      "execution_count": 8,
      "id": "bc2b6f69",
      "metadata": {},
      "outputs": [
        {
          "data": {
            "text/plain": [
              "Species\n",
              "Iris-setosa        50\n",
              "Iris-versicolor    50\n",
              "Iris-virginica     50\n",
              "dtype: int64"
            ]
          },
          "execution_count": 8,
          "metadata": {},
          "output_type": "execute_result"
        }
      ],
      "source": [
        "df.groupby('Species').size()"
      ]
    },
    {
      "cell_type": "markdown",
      "id": "80b3a8e7-e770-4142-a646-aa259f9a0cde",
      "metadata": {
        "id": "80b3a8e7-e770-4142-a646-aa259f9a0cde"
      },
      "source": [
        "### The dataset is for 3 species of flowers with each's sepal and petal dimenstions <br> Goal: \n",
        "classify the spiece of the flower given using KNN model. The expected outcome will fall between the 3 species in the dataset (setosa, versicolor, virginica) in which it will be classified under the highest similarity between the test and train samples."
      ]
    },
    {
      "cell_type": "markdown",
      "id": "790f5bd4-268a-4c24-a4bf-57939b6359dd",
      "metadata": {
        "id": "790f5bd4-268a-4c24-a4bf-57939b6359dd"
      },
      "source": [
        "### Both sepal length and width looks normally distributed, as the mean is almost equal to the median with  low standard deviation <br>On the other hand, petal length looks a bit skewed, will look more into it"
      ]
    },
    {
      "cell_type": "code",
      "execution_count": 9,
      "id": "d390d6d9-8ec3-4816-a1a4-a4d40c31acd9",
      "metadata": {
        "colab": {
          "base_uri": "https://localhost:8080/",
          "height": 447
        },
        "id": "d390d6d9-8ec3-4816-a1a4-a4d40c31acd9",
        "outputId": "e8d092a2-2c69-4d07-af5e-1cf9e38e0c94"
      },
      "outputs": [
        {
          "data": {
            "text/plain": [
              "<Axes: >"
            ]
          },
          "execution_count": 9,
          "metadata": {},
          "output_type": "execute_result"
        },
        {
          "data": {
            "image/png": "[encoded data removed]",
            "text/plain": [
              "<Figure size 640x480 with 1 Axes>"
            ]
          },
          "metadata": {},
          "output_type": "display_data"
        }
      ],
      "source": [
        "df['PetalLengthCm'].plot.line()"
      ]
    },
    {
      "cell_type": "code",
      "execution_count": 10,
      "id": "64b8485e-06aa-41cd-9da5-3ea525004b6b",
      "metadata": {
        "colab": {
          "base_uri": "https://localhost:8080/",
          "height": 466
        },
        "id": "64b8485e-06aa-41cd-9da5-3ea525004b6b",
        "outputId": "7bfa8a22-3105-436c-cd8e-72ab8c39a301"
      },
      "outputs": [
        {
          "name": "stderr",
          "output_type": "stream",
          "text": [
            "c:\\Users\\Mostafa\\anaconda3\\Lib\\site-packages\\seaborn\\_oldcore.py:1119: FutureWarning: use_inf_as_na option is deprecated and will be removed in a future version. Convert inf values to NaN before operating instead.\n",
            "  with pd.option_context('mode.use_inf_as_na', True):\n"
          ]
        },
        {
          "data": {
            "text/plain": [
              "<Axes: xlabel='PetalLengthCm', ylabel='Count'>"
            ]
          },
          "execution_count": 10,
          "metadata": {},
          "output_type": "execute_result"
        },
        {
          "data": {
            "image/png": "[encoded data removed]",
            "text/plain": [
              "<Figure size 640x480 with 1 Axes>"
            ]
          },
          "metadata": {},
          "output_type": "display_data"
        }
      ],
      "source": [
        "sns.histplot(df['PetalLengthCm'],bins = 50)"
      ]
    },
    {
      "cell_type": "code",
      "execution_count": 11,
      "id": "8890c0fc-69ef-4f4e-9508-ebb8ed71bf12",
      "metadata": {
        "colab": {
          "base_uri": "https://localhost:8080/",
          "height": 428
        },
        "id": "8890c0fc-69ef-4f4e-9508-ebb8ed71bf12",
        "outputId": "8da78376-56cd-4ce5-fc45-77677db399d4"
      },
      "outputs": [
        {
          "data": {
            "text/plain": [
              "<Axes: >"
            ]
          },
          "execution_count": 11,
          "metadata": {},
          "output_type": "execute_result"
        },
        {
          "data": {
            "image/png": "[encoded data removed]",
            "text/plain": [
              "<Figure size 640x480 with 1 Axes>"
            ]
          },
          "metadata": {},
          "output_type": "display_data"
        }
      ],
      "source": [
        "sns.boxplot(df['PetalLengthCm'])"
      ]
    },
    {
      "cell_type": "code",
      "execution_count": 12,
      "id": "e385ea4d",
      "metadata": {},
      "outputs": [
        {
          "data": {
            "text/plain": [
              "<Axes: >"
            ]
          },
          "execution_count": 12,
          "metadata": {},
          "output_type": "execute_result"
        },
        {
          "data": {
            "image/png": "[encoded data removed]",
            "text/plain": [
              "<Figure size 640x480 with 1 Axes>"
            ]
          },
          "metadata": {},
          "output_type": "display_data"
        }
      ],
      "source": [
        "sns.boxplot(df['PetalWidthCm'])"
      ]
    },
    {
      "cell_type": "code",
      "execution_count": 13,
      "id": "65426448",
      "metadata": {},
      "outputs": [
        {
          "data": {
            "text/plain": [
              "<Axes: >"
            ]
          },
          "execution_count": 13,
          "metadata": {},
          "output_type": "execute_result"
        },
        {
          "data": {
            "image/png": "[encoded data removed]",
            "text/plain": [
              "<Figure size 640x480 with 1 Axes>"
            ]
          },
          "metadata": {},
          "output_type": "display_data"
        }
      ],
      "source": [
        "sns.boxplot(df['SepalLengthCm'])"
      ]
    },
    {
      "cell_type": "code",
      "execution_count": 14,
      "id": "2aea4553",
      "metadata": {},
      "outputs": [
        {
          "data": {
            "text/plain": [
              "<Axes: >"
            ]
          },
          "execution_count": 14,
          "metadata": {},
          "output_type": "execute_result"
        },
        {
          "data": {
            "image/png": "[encoded data removed]",
            "text/plain": [
              "<Figure size 640x480 with 1 Axes>"
            ]
          },
          "metadata": {},
          "output_type": "display_data"
        }
      ],
      "source": [
        "sns.boxplot(df['SepalWidthCm'])"
      ]
    },
    {
      "cell_type": "markdown",
      "id": "9f5e3be9",
      "metadata": {},
      "source": [
        "# Outliers:\n",
        "There's clear outliers in sepal width. I will approach this by first calculating the lower and upper bounds then getting the outlier values, after that I will be removing them from the dataframe."
      ]
    },
    {
      "cell_type": "code",
      "execution_count": 15,
      "id": "c3c30fa6",
      "metadata": {},
      "outputs": [
        {
          "name": "stdout",
          "output_type": "stream",
          "text": [
            "Outliers in 'SepalWidthCm' \n",
            "     Id  SepalLengthCm  SepalWidthCm  PetalLengthCm  PetalWidthCm  \\\n",
            "15  16            5.7           4.4            1.5           0.4   \n",
            "32  33            5.2           4.1            1.5           0.1   \n",
            "33  34            5.5           4.2            1.4           0.2   \n",
            "60  61            5.0           2.0            3.5           1.0   \n",
            "\n",
            "            Species  \n",
            "15      Iris-setosa  \n",
            "32      Iris-setosa  \n",
            "33      Iris-setosa  \n",
            "60  Iris-versicolor  \n",
            "Data shape before removing outliers:  (150, 6)\n",
            "Data shape after removing outliers:  (146, 6)\n"
          ]
        }
      ],
      "source": [
        "# Calculate the IQR for 'SepalWidthCm'\n",
        "Q1 = df['SepalWidthCm'].quantile(0.25) # First quartile\n",
        "Q3 = df['SepalWidthCm'].quantile(0.75) # Third quartile\n",
        "IQR = Q3 - Q1\n",
        "\n",
        "# Get the outlier bounds\n",
        "lower_bound = Q1 - 1.5 * IQR\n",
        "upper_bound = Q3 + 1.5 * IQR\n",
        "\n",
        "# Identify outliers values\n",
        "outliers = df[(df['SepalWidthCm'] < lower_bound) | (df['SepalWidthCm'] > upper_bound)]\n",
        "\n",
        "print(f\"Outliers in 'SepalWidthCm'\",'\\n',outliers)\n",
        "\n",
        "# Remove outliers\n",
        "df_cleaned = df[(df['SepalWidthCm'] >= lower_bound) & (df['SepalWidthCm'] <= upper_bound)]\n",
        "\n",
        "print(f\"Data shape before removing outliers: \",df.shape)\n",
        "print(f\"Data shape after removing outliers: \",df_cleaned.shape)\n"
      ]
    },
    {
      "cell_type": "code",
      "execution_count": 16,
      "id": "16b9cee9-f5b6-48b8-91cb-8831beb26e5c",
      "metadata": {
        "colab": {
          "base_uri": "https://localhost:8080/"
        },
        "id": "16b9cee9-f5b6-48b8-91cb-8831beb26e5c",
        "outputId": "af6f9df6-52e3-4065-8906-4fd9f580224d"
      },
      "outputs": [
        {
          "data": {
            "text/plain": [
              "Id               0\n",
              "SepalLengthCm    0\n",
              "SepalWidthCm     0\n",
              "PetalLengthCm    0\n",
              "PetalWidthCm     0\n",
              "Species          0\n",
              "dtype: int64"
            ]
          },
          "execution_count": 16,
          "metadata": {},
          "output_type": "execute_result"
        }
      ],
      "source": [
        "df_cleaned.isnull().sum()"
      ]
    },
    {
      "cell_type": "code",
      "execution_count": 17,
      "id": "d1efe514-2113-42da-ade3-d8c2ea074a65",
      "metadata": {
        "colab": {
          "base_uri": "https://localhost:8080/"
        },
        "id": "d1efe514-2113-42da-ade3-d8c2ea074a65",
        "outputId": "a55f07eb-7a82-4c03-96c9-4f02f8668917"
      },
      "outputs": [
        {
          "data": {
            "text/plain": [
              "0"
            ]
          },
          "execution_count": 17,
          "metadata": {},
          "output_type": "execute_result"
        }
      ],
      "source": [
        "df_cleaned.duplicated().sum()"
      ]
    },
    {
      "cell_type": "code",
      "execution_count": 18,
      "id": "d83a0b3d",
      "metadata": {},
      "outputs": [
        {
          "data": {
            "text/plain": [
              "Id               False\n",
              "SepalLengthCm    False\n",
              "SepalWidthCm     False\n",
              "PetalLengthCm    False\n",
              "PetalWidthCm     False\n",
              "dtype: bool"
            ]
          },
          "execution_count": 18,
          "metadata": {},
          "output_type": "execute_result"
        }
      ],
      "source": [
        "(df_cleaned.select_dtypes(include=[float, int]) < 0).any()"
      ]
    },
    {
      "cell_type": "markdown",
      "id": "76390bf3-6f0c-436d-bb3e-d48724ff09a8",
      "metadata": {
        "id": "76390bf3-6f0c-436d-bb3e-d48724ff09a8"
      },
      "source": [
        "## Data is clean, there's no duplicates nor missing values. Got rid of outliers in sepal width <br> Petal length has some skewness to the left, but still close enoguh to be considered normally distributed"
      ]
    },
    {
      "cell_type": "code",
      "execution_count": 19,
      "id": "5c889167",
      "metadata": {},
      "outputs": [
        {
          "data": {
            "text/plain": [
              "<Axes: xlabel='PetalLengthCm', ylabel='PetalWidthCm'>"
            ]
          },
          "execution_count": 19,
          "metadata": {},
          "output_type": "execute_result"
        },
        {
          "data": {
            "image/png": "[encoded data removed]",
            "text/plain": [
              "<Figure size 640x480 with 1 Axes>"
            ]
          },
          "metadata": {},
          "output_type": "display_data"
        }
      ],
      "source": [
        "sns.scatterplot(x='PetalLengthCm', y='PetalWidthCm', hue='Species', data=df_cleaned)"
      ]
    },
    {
      "cell_type": "code",
      "execution_count": 20,
      "id": "ad9982bf",
      "metadata": {},
      "outputs": [
        {
          "data": {
            "text/plain": [
              "<Axes: xlabel='SepalLengthCm', ylabel='SepalWidthCm'>"
            ]
          },
          "execution_count": 20,
          "metadata": {},
          "output_type": "execute_result"
        },
        {
          "data": {
            "image/png": "[encoded data removed]",
            "text/plain": [
              "<Figure size 640x480 with 1 Axes>"
            ]
          },
          "metadata": {},
          "output_type": "display_data"
        }
      ],
      "source": [
        "sns.scatterplot(x='SepalLengthCm', y='SepalWidthCm', hue='Species', data=df_cleaned) "
      ]
    },
    {
      "cell_type": "markdown",
      "id": "86108051",
      "metadata": {},
      "source": [
        "# Conclusion about the data\n",
        "The 3 species are equal in numbers. \n",
        "Setosa has small sepal length while having large sepal width, Versicolor is positioned between Setosa and Virginica middling in sepal length and width. Opposite to Setosa, Virginica has large sepal len with small sepal width.<br><br>\n",
        "Focusing on petal dimenstions differences, Setosa has the smallest petal length and width, while Versicolor lies in the middle between the other two species, and Virginica with the highest petal length and width.<br>\n",
        "Looking with a broad view, Setosa is averaged to be the lowest in dimentions among the other two species, Versicolor is the average of Setosa and Virginica, while Virginica is positioned the highest.\n"
      ]
    },
    {
      "cell_type": "code",
      "execution_count": 21,
      "id": "757d1234-562b-45b3-9be5-0f5547e07c70",
      "metadata": {
        "id": "757d1234-562b-45b3-9be5-0f5547e07c70"
      },
      "outputs": [],
      "source": [
        "def euclidean_distance(x1, x2):\n",
        "    \"\"\"Calculate the Euclidean distance between two points.\"\"\"\n",
        "    return np.sqrt(np.sum((x1 - x2) ** 2))"
      ]
    },
    {
      "cell_type": "code",
      "execution_count": 22,
      "id": "b166d54f-17c8-4f37-afbc-c43c8b26a9e5",
      "metadata": {
        "id": "b166d54f-17c8-4f37-afbc-c43c8b26a9e5"
      },
      "outputs": [],
      "source": [
        "def calculate_distances(X_train, test_point):\n",
        "    \"\"\"Calculate the distances from the test point to all training points.\"\"\"\n",
        "    return np.array([euclidean_distance(test_point, x_train_sample) for x_train_sample in X_train])"
      ]
    },
    {
      "cell_type": "code",
      "execution_count": 23,
      "id": "b156d0b3-1d73-412f-a5f0-124f3692c1cd",
      "metadata": {
        "id": "b156d0b3-1d73-412f-a5f0-124f3692c1cd"
      },
      "outputs": [],
      "source": [
        "def get_k_nearest_neighbors(distances, k):\n",
        "    \"\"\"Get the indices of the k-nearest neighbors.\"\"\"\n",
        "    return distances.argsort()[:k]"
      ]
    },
    {
      "cell_type": "code",
      "execution_count": 24,
      "id": "a7fc1659",
      "metadata": {},
      "outputs": [],
      "source": [
        "from collections import Counter\n",
        "\n",
        "def majority_vote(neighbors_labels):\n",
        "    \"\"\"Determine the most common label among the neighbors.\"\"\"\n",
        "    return Counter(neighbors_labels).most_common(1)[0][0]"
      ]
    },
    {
      "cell_type": "code",
      "execution_count": 25,
      "id": "84cf2604",
      "metadata": {},
      "outputs": [],
      "source": [
        "# KNN algorithm\n",
        "def knn(X_train, y_train, X_test, k=3):\n",
        "    \"\"\"KNN algorithm to predict the class for each point in X_test.\"\"\"\n",
        "    y_pred = np.empty(X_test.shape[0], dtype=y_train.dtype)\n",
        "\n",
        "    for i, test_point in enumerate(X_test):\n",
        "        distances = calculate_distances(X_train, test_point)\n",
        "        k_indices = get_k_nearest_neighbors(distances, k)\n",
        "        k_nearest_labels = y_train[k_indices]\n",
        "        y_pred[i] = majority_vote(k_nearest_labels)\n",
        "\n",
        "    return y_pred"
      ]
    },
    {
      "cell_type": "code",
      "execution_count": 26,
      "id": "bd2644f8",
      "metadata": {},
      "outputs": [],
      "source": [
        "df_cleaned = df_cleaned.drop(columns=['Id'])\n",
        "X = df_cleaned.drop(columns=['Species']).values\n",
        "y = df_cleaned['Species'].values\n",
        "\n",
        "# Scaling and normalizing the features\n",
        "minmax_scaler = MinMaxScaler()\n",
        "X_normalized = minmax_scaler.fit_transform(X)\n",
        "\n",
        "# Splitting the data to test and train sets\n",
        "X_train,X_test,y_train,y_test = train_test_split( X_normalized, y, test_size = 0.2, random_state = 42)\n",
        "\n",
        "std_scaler = StandardScaler()\n",
        "X_train = std_scaler.fit_transform(X_train)\n",
        "X_test = std_scaler.transform(X_test)"
      ]
    },
    {
      "cell_type": "code",
      "execution_count": 27,
      "id": "266e46a6",
      "metadata": {},
      "outputs": [],
      "source": [
        "k_list = [ i for i in range(1,31) ]"
      ]
    },
    {
      "cell_type": "markdown",
      "id": "1b373422",
      "metadata": {},
      "source": [
        "# Hyperparameter tuning\n",
        "Here I'm searching for the best K value to use with the highets accuracy, this is done by calculating the accuracy of KNN model withing the range of [1,30], then getting the index of the highest accuracy which is K."
      ]
    },
    {
      "cell_type": "code",
      "execution_count": 28,
      "id": "e52e868b-c870-4067-b962-fb2bf11d985b",
      "metadata": {
        "id": "e52e868b-c870-4067-b962-fb2bf11d985b"
      },
      "outputs": [],
      "source": [
        "scores = []\n",
        "for i in k_list:\n",
        "    y_pred_test = knn(X_train,y_train,X_test,i)\n",
        "    accuracy = accuracy_score(y_test, y_pred_test)\n",
        "    scores.append(accuracy)"
      ]
    },
    {
      "cell_type": "code",
      "execution_count": 29,
      "id": "0da97a2c",
      "metadata": {},
      "outputs": [
        {
          "data": {
            "text/plain": [
              "7"
            ]
          },
          "execution_count": 29,
          "metadata": {},
          "output_type": "execute_result"
        }
      ],
      "source": [
        "best_k = k_list[np.argmax(scores)]\n",
        "best_k"
      ]
    },
    {
      "cell_type": "code",
      "execution_count": 30,
      "id": "eafa353f",
      "metadata": {},
      "outputs": [],
      "source": [
        "# KNN predicition\n",
        "k = best_k\n",
        "y_pred_knn = knn(X_train,y_train,X_test,k)"
      ]
    },
    {
      "cell_type": "code",
      "execution_count": 37,
      "id": "9b5298e0",
      "metadata": {},
      "outputs": [
        {
          "data": {
            "text/html": [
              "<style>#sk-container-id-3 {color: black;background-color: white;}#sk-container-id-3 pre{padding: 0;}#sk-container-id-3 div.sk-toggleable {background-color: white;}#sk-container-id-3 label.sk-toggleable__label {cursor: pointer;display: block;width: 100%;margin-bottom: 0;padding: 0.3em;box-sizing: border-box;text-align: center;}#sk-container-id-3 label.sk-toggleable__label-arrow:before {content: \"▸\";float: left;margin-right: 0.25em;color: #696969;}#sk-container-id-3 label.sk-toggleable__label-arrow:hover:before {color: black;}#sk-container-id-3 div.sk-estimator:hover label.sk-toggleable__label-arrow:before {color: black;}#sk-container-id-3 div.sk-toggleable__content {max-height: 0;max-width: 0;overflow: hidden;text-align: left;background-color: #f0f8ff;}#sk-container-id-3 div.sk-toggleable__content pre {margin: 0.2em;color: black;border-radius: 0.25em;background-color: #f0f8ff;}#sk-container-id-3 input.sk-toggleable__control:checked~div.sk-toggleable__content {max-height: 200px;max-width: 100%;overflow: auto;}#sk-container-id-3 input.sk-toggleable__control:checked~label.sk-toggleable__label-arrow:before {content: \"▾\";}#sk-container-id-3 div.sk-estimator input.sk-toggleable__control:checked~label.sk-toggleable__label {background-color: #d4ebff;}#sk-container-id-3 div.sk-label input.sk-toggleable__control:checked~label.sk-toggleable__label {background-color: #d4ebff;}#sk-container-id-3 input.sk-hidden--visually {border: 0;clip: rect(1px 1px 1px 1px);clip: rect(1px, 1px, 1px, 1px);height: 1px;margin: -1px;overflow: hidden;padding: 0;position: absolute;width: 1px;}#sk-container-id-3 div.sk-estimator {font-family: monospace;background-color: #f0f8ff;border: 1px dotted black;border-radius: 0.25em;box-sizing: border-box;margin-bottom: 0.5em;}#sk-container-id-3 div.sk-estimator:hover {background-color: #d4ebff;}#sk-container-id-3 div.sk-parallel-item::after {content: \"\";width: 100%;border-bottom: 1px solid gray;flex-grow: 1;}#sk-container-id-3 div.sk-label:hover label.sk-toggleable__label {background-color: #d4ebff;}#sk-container-id-3 div.sk-serial::before {content: \"\";position: absolute;border-left: 1px solid gray;box-sizing: border-box;top: 0;bottom: 0;left: 50%;z-index: 0;}#sk-container-id-3 div.sk-serial {display: flex;flex-direction: column;align-items: center;background-color: white;padding-right: 0.2em;padding-left: 0.2em;position: relative;}#sk-container-id-3 div.sk-item {position: relative;z-index: 1;}#sk-container-id-3 div.sk-parallel {display: flex;align-items: stretch;justify-content: center;background-color: white;position: relative;}#sk-container-id-3 div.sk-item::before, #sk-container-id-3 div.sk-parallel-item::before {content: \"\";position: absolute;border-left: 1px solid gray;box-sizing: border-box;top: 0;bottom: 0;left: 50%;z-index: -1;}#sk-container-id-3 div.sk-parallel-item {display: flex;flex-direction: column;z-index: 1;position: relative;background-color: white;}#sk-container-id-3 div.sk-parallel-item:first-child::after {align-self: flex-end;width: 50%;}#sk-container-id-3 div.sk-parallel-item:last-child::after {align-self: flex-start;width: 50%;}#sk-container-id-3 div.sk-parallel-item:only-child::after {width: 0;}#sk-container-id-3 div.sk-dashed-wrapped {border: 1px dashed gray;margin: 0 0.4em 0.5em 0.4em;box-sizing: border-box;padding-bottom: 0.4em;background-color: white;}#sk-container-id-3 div.sk-label label {font-family: monospace;font-weight: bold;display: inline-block;line-height: 1.2em;}#sk-container-id-3 div.sk-label-container {text-align: center;}#sk-container-id-3 div.sk-container {/* jupyter's `normalize.less` sets `[hidden] { display: none; }` but bootstrap.min.css set `[hidden] { display: none !important; }` so we also need the `!important` here to be able to override the default hidden behavior on the sphinx rendered scikit-learn.org. See: https://github.com/scikit-learn/scikit-learn/issues/21755 */display: inline-block !important;position: relative;}#sk-container-id-3 div.sk-text-repr-fallback {display: none;}</style><div id=\"sk-container-id-3\" class=\"sk-top-container\"><div class=\"sk-text-repr-fallback\"><pre>SVC(kernel=&#x27;linear&#x27;)</pre><b>In a Jupyter environment, please rerun this cell to show the HTML representation or trust the notebook. <br />On GitHub, the HTML representation is unable to render, please try loading this page with nbviewer.org.</b></div><div class=\"sk-container\" hidden><div class=\"sk-item\"><div class=\"sk-estimator sk-toggleable\"><input class=\"sk-toggleable__control sk-hidden--visually\" id=\"sk-estimator-id-3\" type=\"checkbox\" checked><label for=\"sk-estimator-id-3\" class=\"sk-toggleable__label sk-toggleable__label-arrow\">SVC</label><div class=\"sk-toggleable__content\"><pre>SVC(kernel=&#x27;linear&#x27;)</pre></div></div></div></div></div>"
            ],
            "text/plain": [
              "SVC(kernel='linear')"
            ]
          },
          "execution_count": 37,
          "metadata": {},
          "output_type": "execute_result"
        }
      ],
      "source": [
        "svm_model_linear = SVC(kernel='linear')\n",
        "\n",
        "svm_model_linear.fit(X_train,y_train)"
      ]
    },
    {
      "cell_type": "code",
      "execution_count": 38,
      "id": "8fc30d8f",
      "metadata": {},
      "outputs": [],
      "source": [
        "# SVM prediction\n",
        "\n",
        "y_pred_svm_linear = svm_model_linear.predict(X_test)\n",
        "\n",
        "# accuracy = accuracy_score(y_test, y_pred_svm)\n",
        "# print(\"Accuracy:\", accuracy)\n"
      ]
    },
    {
      "cell_type": "code",
      "execution_count": 39,
      "id": "4eb09c22",
      "metadata": {},
      "outputs": [
        {
          "name": "stdout",
          "output_type": "stream",
          "text": [
            "Accuracy for KNN: 0.9666666666666667\n",
            "Accuracy for SVM (linear): 0.9666666666666667\n",
            "\n",
            "Precision for KNN: 0.9666666666666667\n",
            "Precision for SVM (linear): 0.9666666666666667\n",
            "\n",
            "Recall score for KNN: 0.9666666666666667\n",
            "Recall score for SVM (linear): 0.9666666666666667\n",
            "\n",
            "F1 score for KNN: 0.9666666666666667\n",
            "F1 score for SVM (linear): 0.9666666666666667\n"
          ]
        }
      ],
      "source": [
        "# Performance results\n",
        "# Using average='micro' as it calculates metrics globally by counting the total true positives, false negatives and false positives.\n",
        "\n",
        "accuracy_knn = accuracy_score(y_test, y_pred_knn)\n",
        "accuracy_lin = accuracy_score(y_test, y_pred_svm_linear)\n",
        "\n",
        "precision_knn = precision_score(y_test, y_pred_knn, average='micro')\n",
        "precision_lin = precision_score(y_test, y_pred_svm_linear,average='micro')\n",
        "\n",
        "recall_knn = recall_score(y_test, y_pred_knn,average='micro')\n",
        "recall_lin = recall_score(y_test, y_pred_svm_linear,average='micro')\n",
        "\n",
        "f1_score_knn = f1_score(y_test, y_pred_knn,average='micro')\n",
        "f1_score_lin = f1_score(y_test, y_pred_svm_linear,average='micro')\n",
        "\n",
        "\n",
        "\n",
        "print(\"Accuracy for KNN:\", accuracy_knn)\n",
        "print(\"Accuracy for SVM (linear):\", accuracy_lin)\n",
        "\n",
        "print(\"\\nPrecision for KNN:\", precision_knn)\n",
        "print(\"Precision for SVM (linear):\", precision_lin)\n",
        "\n",
        "print(\"\\nRecall score for KNN:\", recall_knn)\n",
        "print(\"Recall score for SVM (linear):\", recall_lin)\n",
        "\n",
        "print(\"\\nF1 score for KNN:\", f1_score_knn)\n",
        "print(\"F1 score for SVM (linear):\", f1_score_lin)\n",
        "\n",
        "\n",
        "\n"
      ]
    },
    {
      "cell_type": "markdown",
      "id": "3b62a7c3",
      "metadata": {},
      "source": [
        "# Refrences\n",
        "HCIA Lab 2 materials <br>\n",
        "https://builtin.com/data-science/when-and-why-standardize-your-data <br>\n",
        "https://medium.com/@madhuri15/knn-classifier-implementation-best-practices-and-tips-part-i-6288181c8eed <br>\n",
        "https://www.geeksforgeeks.org/ml-feature-scaling-part-2/ <br>\n",
        "https://scikit-learn.org/stable/modules/svm.html <br>"
      ]
    },
    {
      "cell_type": "markdown",
      "id": "bebb75b5",
      "metadata": {},
      "source": []
    },
    {
      "cell_type": "markdown",
      "id": "1fbd0add",
      "metadata": {},
      "source": []
    }
  ],
  "metadata": {
    "colab": {
      "provenance": []
    },
    "kernelspec": {
      "display_name": "Python 3 (ipykernel)",
      "language": "python",
      "name": "python3"
    },
    "language_info": {
      "codemirror_mode": {
        "name": "ipython",
        "version": 3
      },
      "file_extension": ".py",
      "mimetype": "text/x-python",
      "name": "python",
      "nbconvert_exporter": "python",
      "pygments_lexer": "ipython3",
      "version": "3.11.7"
    }
  },
  "nbformat": 4,
  "nbformat_minor": 5
}
